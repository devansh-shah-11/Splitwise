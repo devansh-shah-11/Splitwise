{
  "cells": [
    {
      "cell_type": "markdown",
      "metadata": {
        "id": "view-in-github",
        "colab_type": "text"
      },
      "source": [
        "<a href=\"https://colab.research.google.com/github/devansh-shah-11/Splitwise/blob/main/Copy_of_Transfer_Learning_Demo.ipynb\" target=\"_parent\"><img src=\"https://colab.research.google.com/assets/colab-badge.svg\" alt=\"Open In Colab\"/></a>"
      ]
    },
    {
      "cell_type": "markdown",
      "metadata": {
        "id": "-kC39Lc6-IL2"
      },
      "source": [
        "# **Transfer Learning**\n",
        "\n",
        "\n",
        "<img src=\"https://media.licdn.com/dms/image/C5612AQE8jRiwRCK4Lw/article-inline_image-shrink_1000_1488/0/1589803788079?e=1681948800&v=beta&t=FeO_YjNIfPDwNffCS8O8HduTz5xd7usTuQHYMOllo-Y\" />\n",
        "\n",
        "---\n",
        "\n",
        "\n",
        "* Author: Hetul Patel\n",
        "* Linekedin: https://www.linkedin.com/in/hetul-v-patel/\n"
      ]
    },
    {
      "cell_type": "code",
      "execution_count": null,
      "metadata": {
        "colab": {
          "base_uri": "https://localhost:8080/"
        },
        "id": "EBjGsEBYExTq",
        "outputId": "2280e3af-f2c9-4626-feb9-a75beb2a44ed"
      },
      "outputs": [
        {
          "name": "stdout",
          "output_type": "stream",
          "text": [
            "\u001b[?25l     \u001b[90m━━━━━━━━━━━━━━━━━━━━━━━━━━━━━━━━━━━━━━━━\u001b[0m \u001b[32m0.0/1.6 MB\u001b[0m \u001b[31m?\u001b[0m eta \u001b[36m-:--:--\u001b[0m\r\u001b[2K     \u001b[91m━━━━━━\u001b[0m\u001b[91m╸\u001b[0m\u001b[90m━━━━━━━━━━━━━━━━━━━━━━━━━━━━━━━━━\u001b[0m \u001b[32m0.3/1.6 MB\u001b[0m \u001b[31m7.9 MB/s\u001b[0m eta \u001b[36m0:00:01\u001b[0m\r\u001b[2K     \u001b[91m━━━━━━━━━━━━━━━━━━━━━━━━━━━━━━━━━━━━━━━\u001b[0m\u001b[91m╸\u001b[0m \u001b[32m1.6/1.6 MB\u001b[0m \u001b[31m24.9 MB/s\u001b[0m eta \u001b[36m0:00:01\u001b[0m\r\u001b[2K     \u001b[90m━━━━━━━━━━━━━━━━━━━━━━━━━━━━━━━━━━━━━━━━\u001b[0m \u001b[32m1.6/1.6 MB\u001b[0m \u001b[31m20.1 MB/s\u001b[0m eta \u001b[36m0:00:00\u001b[0m\n",
            "\u001b[?25h"
          ]
        }
      ],
      "source": [
        "!pip -q install ipyplot"
      ]
    },
    {
      "cell_type": "markdown",
      "metadata": {
        "id": "DhH1iQ8B-_C-"
      },
      "source": [
        "## Utility Functions"
      ]
    },
    {
      "cell_type": "code",
      "execution_count": null,
      "metadata": {
        "id": "8rjHk72-lmHX"
      },
      "outputs": [],
      "source": [
        "import cv2\n",
        "from google.colab.patches import cv2_imshow\n",
        "import math\n",
        "import os\n",
        "import numpy as np\n",
        "\n",
        "def resize_and_show(image, desired_height=240, desired_width=240):\n",
        "  h, w = image.shape[:2]\n",
        "  if h < w:\n",
        "    img = cv2.resize(image, (desired_width, math.floor(h/(w/desired_width))))\n",
        "  else:\n",
        "    img = cv2.resize(image, (math.floor(w/(h/desired_height)), desired_height))\n",
        "  cv2_imshow(img)"
      ]
    },
    {
      "cell_type": "code",
      "execution_count": null,
      "metadata": {
        "id": "GmIbYjgL49CJ"
      },
      "outputs": [],
      "source": [
        "from IPython.display import display, Javascript, Image\n",
        "from google.colab.output import eval_js\n",
        "from base64 import b64decode\n",
        "\n",
        "def take_photo(filename=\"\", quality=0.8):\n",
        "  js = Javascript('''\n",
        "    async function takePhoto(quality) {\n",
        "      const div = document.createElement('div');\n",
        "      const capture = document.createElement('button');\n",
        "      capture.textContent = 'Capture Image';\n",
        "      div.appendChild(capture);\n",
        "\n",
        "      const video = document.createElement('video');\n",
        "      video.style.display = 'block';\n",
        "      const stream = await navigator.mediaDevices.getUserMedia({video: true});\n",
        "\n",
        "      document.body.appendChild(div);\n",
        "      div.appendChild(video);\n",
        "      video.srcObject = stream;\n",
        "      await video.play();\n",
        "\n",
        "      // Resize the output to fit the video element.\n",
        "      google.colab.output.setIframeHeight(document.documentElement.scrollHeight, true);\n",
        "\n",
        "      // Wait for Capture to be clicked.\n",
        "      await new Promise((resolve) => capture.onclick = resolve);\n",
        "\n",
        "      const canvas = document.createElement('canvas');\n",
        "      canvas.width = video.videoWidth;\n",
        "      canvas.height = video.videoHeight;\n",
        "      canvas.getContext('2d').drawImage(video, 0, 0);\n",
        "      stream.getVideoTracks()[0].stop();\n",
        "      div.remove();\n",
        "      return canvas.toDataURL('image/jpeg', quality);\n",
        "    }\n",
        "    ''')\n",
        "  display(js)\n",
        "  data = eval_js('takePhoto({})'.format(quality))\n",
        "  binary = b64decode(data.split(',')[1])\n",
        "\n",
        "  if filename:\n",
        "    dir = os.path.dirname(filename)\n",
        "    os.makedirs(dir, exist_ok=True)\n",
        "    with open(filename, \"wb\") as f:\n",
        "      f.write(binary)\n",
        "\n",
        "  image = cv2.imdecode(np.frombuffer(binary, np.uint8), cv2.IMREAD_COLOR)\n",
        "  return image"
      ]
    },
    {
      "cell_type": "markdown",
      "metadata": {
        "id": "6y_V5IBB5GAs"
      },
      "source": [
        "# Capture Demo"
      ]
    },
    {
      "cell_type": "code",
      "execution_count": null,
      "metadata": {
        "colab": {
          "base_uri": "https://localhost:8080/",
          "height": 17
        },
        "id": "044I6n9n5DZm",
        "outputId": "fcd4f046-3c8e-4166-b1de-901438194987"
      },
      "outputs": [
        {
          "data": {
            "application/javascript": [
              "\n",
              "    async function takePhoto(quality) {\n",
              "      const div = document.createElement('div');\n",
              "      const capture = document.createElement('button');\n",
              "      capture.textContent = 'Capture Image';\n",
              "      div.appendChild(capture);\n",
              "\n",
              "      const video = document.createElement('video');\n",
              "      video.style.display = 'block';\n",
              "      const stream = await navigator.mediaDevices.getUserMedia({video: true});\n",
              "\n",
              "      document.body.appendChild(div);\n",
              "      div.appendChild(video);\n",
              "      video.srcObject = stream;\n",
              "      await video.play();\n",
              "\n",
              "      // Resize the output to fit the video element.\n",
              "      google.colab.output.setIframeHeight(document.documentElement.scrollHeight, true);\n",
              "\n",
              "      // Wait for Capture to be clicked.\n",
              "      await new Promise((resolve) => capture.onclick = resolve);\n",
              "\n",
              "      const canvas = document.createElement('canvas');\n",
              "      canvas.width = video.videoWidth;\n",
              "      canvas.height = video.videoHeight;\n",
              "      canvas.getContext('2d').drawImage(video, 0, 0);\n",
              "      stream.getVideoTracks()[0].stop();\n",
              "      div.remove();\n",
              "      return canvas.toDataURL('image/jpeg', quality);\n",
              "    }\n",
              "    "
            ],
            "text/plain": [
              "<IPython.core.display.Javascript object>"
            ]
          },
          "metadata": {},
          "output_type": "display_data"
        }
      ],
      "source": [
        "image = take_photo()"
      ]
    },
    {
      "cell_type": "code",
      "execution_count": null,
      "metadata": {
        "colab": {
          "base_uri": "https://localhost:8080/",
          "height": 197
        },
        "id": "yLIQEIu-5FJc",
        "outputId": "bcd0adb5-3e6b-4792-a506-6a1ba4b48b14"
      },
      "outputs": [
        {
          "data": {
            "image/png": "[encoded data removed]",
            "text/plain": [
              "<PIL.Image.Image image mode=RGB size=240x180 at 0x7FAA4054CAF0>"
            ]
          },
          "metadata": {},
          "output_type": "display_data"
        }
      ],
      "source": [
        "resize_and_show(image)"
      ]
    },
    {
      "cell_type": "markdown",
      "metadata": {
        "id": "22mPGTRk5pR5"
      },
      "source": [
        "# Capture Class Image"
      ]
    },
    {
      "cell_type": "code",
      "execution_count": null,
      "metadata": {
        "id": "65w_YfY45tMJ"
      },
      "outputs": [],
      "source": [
        "class_1_name = \"pen\"\n",
        "class_2_name = \"specs\"\n",
        "class_3_name = \"face\""
      ]
    },
    {
      "cell_type": "markdown",
      "metadata": {
        "id": "eG1JrrGa42Po"
      },
      "source": [
        "## Capture Image for Class 1"
      ]
    },
    {
      "cell_type": "code",
      "execution_count": null,
      "metadata": {
        "colab": {
          "background_save": true,
          "base_uri": "https://localhost:8080/",
          "height": 518
        },
        "id": "z9oFQVPeyCuR",
        "outputId": "356a1e5d-dd3e-4ce8-cbfb-8105abffdf39"
      },
      "outputs": [
        {
          "data": {
            "application/javascript": [
              "\n",
              "    async function takePhoto(quality) {\n",
              "      const div = document.createElement('div');\n",
              "      const capture = document.createElement('button');\n",
              "      capture.textContent = 'Capture Image';\n",
              "      div.appendChild(capture);\n",
              "\n",
              "      const video = document.createElement('video');\n",
              "      video.style.display = 'block';\n",
              "      const stream = await navigator.mediaDevices.getUserMedia({video: true});\n",
              "\n",
              "      document.body.appendChild(div);\n",
              "      div.appendChild(video);\n",
              "      video.srcObject = stream;\n",
              "      await video.play();\n",
              "\n",
              "      // Resize the output to fit the video element.\n",
              "      google.colab.output.setIframeHeight(document.documentElement.scrollHeight, true);\n",
              "\n",
              "      // Wait for Capture to be clicked.\n",
              "      await new Promise((resolve) => capture.onclick = resolve);\n",
              "\n",
              "      const canvas = document.createElement('canvas');\n",
              "      canvas.width = video.videoWidth;\n",
              "      canvas.height = video.videoHeight;\n",
              "      canvas.getContext('2d').drawImage(video, 0, 0);\n",
              "      stream.getVideoTracks()[0].stop();\n",
              "      div.remove();\n",
              "      return canvas.toDataURL('image/jpeg', quality);\n",
              "    }\n",
              "    "
            ],
            "text/plain": [
              "<IPython.core.display.Javascript object>"
            ]
          },
          "metadata": {},
          "output_type": "display_data"
        }
      ],
      "source": [
        "x = take_photo(filename=f\"images/{class_1_name}/image_1.jpg\")\n",
        "resize_and_show(x)"
      ]
    },
    {
      "cell_type": "code",
      "execution_count": null,
      "metadata": {
        "id": "ACyuLURY6UN6"
      },
      "outputs": [],
      "source": [
        "x = take_photo(filename=f\"images/{class_1_name}/image_2.jpg\")\n",
        "resize_and_show(x)"
      ]
    },
    {
      "cell_type": "code",
      "execution_count": null,
      "metadata": {
        "id": "SulTdRBl6UtP"
      },
      "outputs": [],
      "source": [
        "x = take_photo(filename=f\"images/{class_1_name}/image_3.jpg\")\n",
        "resize_and_show(x)"
      ]
    },
    {
      "cell_type": "markdown",
      "metadata": {
        "id": "8z-xLgd97fDk"
      },
      "source": [
        "## Capture Image for Class 2"
      ]
    },
    {
      "cell_type": "code",
      "execution_count": null,
      "metadata": {
        "id": "LBWBUaxq7fDn"
      },
      "outputs": [],
      "source": [
        "x = take_photo(filename=f\"images/{class_2_name}/image_1.jpg\")\n",
        "resize_and_show(x)"
      ]
    },
    {
      "cell_type": "code",
      "execution_count": null,
      "metadata": {
        "id": "A--uWNdZ7fDp"
      },
      "outputs": [],
      "source": [
        "x = take_photo(filename=f\"images/{class_2_name}/image_2.jpg\")\n",
        "resize_and_show(x)"
      ]
    },
    {
      "cell_type": "code",
      "execution_count": null,
      "metadata": {
        "id": "VqDuyfUf7fDq"
      },
      "outputs": [],
      "source": [
        "x = take_photo(filename=f\"images/{class_2_name}/image_3.jpg\")\n",
        "resize_and_show(x)"
      ]
    },
    {
      "cell_type": "markdown",
      "metadata": {
        "id": "RcxBYCEL7fe-"
      },
      "source": [
        "## Capture Image for Class 3"
      ]
    },
    {
      "cell_type": "code",
      "execution_count": null,
      "metadata": {
        "id": "yOOwQRfI7fe-"
      },
      "outputs": [],
      "source": [
        "x = take_photo(filename=f\"images/{class_3_name}/image_1.jpg\")\n",
        "resize_and_show(x)"
      ]
    },
    {
      "cell_type": "code",
      "execution_count": null,
      "metadata": {
        "id": "T1LNjfAI7fe_"
      },
      "outputs": [],
      "source": [
        "x = take_photo(filename=f\"images/{class_3_name}/image_2.jpg\")\n",
        "resize_and_show(x)"
      ]
    },
    {
      "cell_type": "code",
      "execution_count": null,
      "metadata": {
        "id": "IxQWLjrC7fe_"
      },
      "outputs": [],
      "source": [
        "x = take_photo(filename=f\"images/{class_3_name}/image_3.jpg\")\n",
        "resize_and_show(x)"
      ]
    },
    {
      "cell_type": "markdown",
      "metadata": {
        "id": "v-TM70j18WV1"
      },
      "source": [
        "# Synthetic Data Augmentation"
      ]
    },
    {
      "cell_type": "code",
      "execution_count": null,
      "metadata": {
        "id": "dJpXV-1m8yjE"
      },
      "outputs": [],
      "source": [
        "import albumentations as A\n",
        "import random"
      ]
    },
    {
      "cell_type": "code",
      "execution_count": null,
      "metadata": {
        "id": "1CLi2xkF8EXW"
      },
      "outputs": [],
      "source": [
        "transform = A.Compose([\n",
        "        A.HorizontalFlip(p=0.5),\n",
        "        A.OneOf([\n",
        "            A.GaussNoise(),\n",
        "            A.GaussNoise(),\n",
        "        ], p=0.2),\n",
        "        A.OneOf([\n",
        "            A.MotionBlur(p=.2),\n",
        "            A.MedianBlur(blur_limit=3, p=0.1),\n",
        "            A.Blur(blur_limit=3, p=0.1),\n",
        "        ], p=0.2),\n",
        "        A.ShiftScaleRotate(shift_limit=0.0625, scale_limit=0.2, rotate_limit=45, p=0.2),\n",
        "        A.OneOf([\n",
        "            A.OpticalDistortion(p=0.3),\n",
        "            A.GridDistortion(p=.1),\n",
        "            A.PiecewiseAffine(p=0.3),\n",
        "        ], p=0.2),\n",
        "        A.OneOf([\n",
        "            A.CLAHE(clip_limit=2),\n",
        "            A.Sharpen(),\n",
        "            A.Emboss(),\n",
        "            A.RandomBrightnessContrast(),            \n",
        "        ], p=0.3),\n",
        "        A.HueSaturationValue(p=0.3),\n",
        "    ])"
      ]
    },
    {
      "cell_type": "code",
      "execution_count": null,
      "metadata": {
        "id": "ouAxaxWb82aL"
      },
      "outputs": [],
      "source": [
        "for i in range(3):\n",
        "  augmented_image = transform(image=x)['image']\n",
        "  resize_and_show(augmented_image)"
      ]
    },
    {
      "cell_type": "code",
      "execution_count": null,
      "metadata": {
        "id": "17hRHpHR9LWO"
      },
      "outputs": [],
      "source": [
        "import glob\n",
        "from tqdm import tqdm \n",
        "\n",
        "# Create Training/Validation Images By Augmenting captured Images\n",
        "image_dir = \"images\"\n",
        "all_classes = sorted(os.listdir(image_dir)) \n",
        "display_images = []\n",
        "\n",
        "# Create augmented version of each image\n",
        "for class_name in all_classes:\n",
        "  # list images for given class\n",
        "  images = sorted(os.listdir(os.path.join(image_dir, class_name)))\n",
        "  cnt = 0\n",
        "  for image_path in images:\n",
        "    # read image from disk\n",
        "    image = cv2.imread(os.path.join(image_dir, class_name, image_path))\n",
        "    \n",
        "    # save 10 augmentation for this image\n",
        "    for i in tqdm(range(10), desc=f\"{class_name}-{image_path}\"):\n",
        "      augmented_image = transform(image=image)['image']\n",
        "      ouput_dir = \"train\" if cnt < 2 else \"validation\"\n",
        "      ouput_dir = os.path.join(ouput_dir, class_name)\n",
        "      os.makedirs(ouput_dir, exist_ok=True)\n",
        "      cv2.imwrite(os.path.join(ouput_dir, f\"aug_{i+1}_{image_path}\"), augmented_image)\n",
        "\n",
        "      if cnt >= 2:\n",
        "        display_images.append(cv2.cvtColor(augmented_image, cv2.COLOR_BGR2RGB))\n",
        "\n",
        "    cnt+=1"
      ]
    },
    {
      "cell_type": "code",
      "execution_count": null,
      "metadata": {
        "id": "7zl1xED0DKXG"
      },
      "outputs": [],
      "source": [
        "import ipyplot\n",
        "ipyplot.plot_images(display_images, max_images=100, img_width=150)"
      ]
    },
    {
      "cell_type": "markdown",
      "metadata": {
        "id": "cwwdP88AHNEd"
      },
      "source": [
        "# Data preprocessing"
      ]
    },
    {
      "cell_type": "code",
      "execution_count": null,
      "metadata": {
        "id": "ziFS7XQzHZbT"
      },
      "outputs": [],
      "source": [
        "import tensorflow as tf\n",
        "tf.get_logger().setLevel('ERROR')"
      ]
    },
    {
      "cell_type": "code",
      "execution_count": null,
      "metadata": {
        "id": "7OYuIQ8PHQaX"
      },
      "outputs": [],
      "source": [
        "train_dir = \"train\"\n",
        "validation_dir = \"validation\"\n",
        "test_dir = \"images\"\n",
        "\n",
        "BATCH_SIZE = 3\n",
        "IMG_SIZE = (160, 160)\n",
        "\n",
        "train_dataset = tf.keras.utils.image_dataset_from_directory(train_dir,\n",
        "                                                            shuffle=True,\n",
        "                                                            batch_size=BATCH_SIZE,\n",
        "                                                            image_size=IMG_SIZE)\n",
        "\n",
        "validation_dataset = tf.keras.utils.image_dataset_from_directory(validation_dir,\n",
        "                                                                 shuffle=True,\n",
        "                                                                 batch_size=BATCH_SIZE,\n",
        "                                                                 image_size=IMG_SIZE)\n",
        "\n",
        "test_dataset = tf.keras.utils.image_dataset_from_directory(test_dir,\n",
        "                                                          shuffle=False,\n",
        "                                                          batch_size=BATCH_SIZE,\n",
        "                                                          image_size=IMG_SIZE)"
      ]
    },
    {
      "cell_type": "code",
      "execution_count": null,
      "metadata": {
        "id": "XjkjK_S6IEvs"
      },
      "outputs": [],
      "source": [
        "print('Number of train batches: %d' % tf.data.experimental.cardinality(train_dataset))\n",
        "print('Number of validation batches: %d' % tf.data.experimental.cardinality(validation_dataset))\n",
        "print('Number of test batches: %d' % tf.data.experimental.cardinality(test_dataset))"
      ]
    },
    {
      "cell_type": "markdown",
      "metadata": {
        "id": "Qf1SJZOGIen1"
      },
      "source": [
        "## Use data augmentation"
      ]
    },
    {
      "cell_type": "code",
      "execution_count": null,
      "metadata": {
        "id": "hVR1pD-kIgvw"
      },
      "outputs": [],
      "source": [
        "data_augmentation = tf.keras.Sequential([\n",
        "    #flipping and rotating image every time image given to model\n",
        "  tf.keras.layers.RandomFlip('horizontal'),\n",
        "  tf.keras.layers.RandomRotation(0.2),\n",
        "])"
      ]
    },
    {
      "cell_type": "markdown",
      "metadata": {
        "id": "G1K4Gm0QHleG"
      },
      "source": [
        "# Create the base model from scratch"
      ]
    },
    {
      "cell_type": "markdown",
      "metadata": {
        "id": "mTwPAl4UHleJ"
      },
      "source": [
        "First, instantiate a MobileNet V2 model with randomly initialized weights."
      ]
    },
    {
      "cell_type": "code",
      "execution_count": null,
      "metadata": {
        "id": "FA_e_uQ2HleJ"
      },
      "outputs": [],
      "source": [
        "# Create the base model from the pre-trained model MobileNet V2\n",
        "IMG_SHAPE = IMG_SIZE + (3,)\n",
        "base_model = tf.keras.applications.MobileNetV2(input_shape=IMG_SHAPE,\n",
        "                                               include_top=False, #to avoid using la\n",
        "                                               weights=None)"
      ]
    },
    {
      "cell_type": "markdown",
      "metadata": {
        "id": "xZxc6FjnHleK"
      },
      "source": [
        "## Rescale pixel values\n",
        "\n",
        "In a moment, you will download tf.keras.applications.MobileNetV2 for use as your base model. This model expects pixel values in [-1, 1], but at this point, the pixel values in your images are in [0, 255]. To rescale them, use the preprocessing method included with the model."
      ]
    },
    {
      "cell_type": "code",
      "execution_count": null,
      "metadata": {
        "id": "fFxjZM-hHleL"
      },
      "outputs": [],
      "source": [
        "preprocess_input = tf.keras.applications.mobilenet_v2.preprocess_input"
      ]
    },
    {
      "cell_type": "markdown",
      "metadata": {
        "id": "en213HkKHleL"
      },
      "source": [
        "This feature extractor converts each 160x160x3 image into a 5x5x1280 block of features. Let's see what it does to an example batch of images:"
      ]
    },
    {
      "cell_type": "code",
      "execution_count": null,
      "metadata": {
        "id": "T3Cn-YVQHleM"
      },
      "outputs": [],
      "source": [
        "image_batch, label_batch = next(iter(train_dataset))\n",
        "feature_batch = base_model(image_batch)\n",
        "print(feature_batch.shape)"
      ]
    },
    {
      "cell_type": "markdown",
      "metadata": {
        "id": "fUjvqzvMHleM"
      },
      "source": [
        "# Training Entire Model From Scratch"
      ]
    },
    {
      "cell_type": "markdown",
      "metadata": {
        "id": "wNpQmBZGIHaU"
      },
      "source": [
        "## Add a classification head"
      ]
    },
    {
      "cell_type": "markdown",
      "metadata": {
        "id": "_TS8inZ2IHaV"
      },
      "source": [
        "To generate predictions from the block of features, average over the spatial 5x5 spatial locations, using a tf.keras.layers.GlobalAveragePooling2D layer to convert the features to a single 1280-element vector per image."
      ]
    },
    {
      "cell_type": "code",
      "execution_count": null,
      "metadata": {
        "id": "-2B2oos4IHaV"
      },
      "outputs": [],
      "source": [
        "global_average_layer = tf.keras.layers.GlobalAveragePooling2D()\n",
        "feature_batch_average = global_average_layer(feature_batch)\n",
        "print(feature_batch_average.shape)"
      ]
    },
    {
      "cell_type": "markdown",
      "metadata": {
        "id": "P-N9mjGVIHaW"
      },
      "source": [
        "Apply a tf.keras.layers.Dense layer to convert these features into a probability vector.\n"
      ]
    },
    {
      "cell_type": "code",
      "execution_count": null,
      "metadata": {
        "id": "zguDyY6AIHaX"
      },
      "outputs": [],
      "source": [
        "prediction_layer = tf.keras.layers.Dense(3)\n",
        "prediction_batch = prediction_layer(feature_batch_average)\n",
        "print(prediction_batch.shape)"
      ]
    },
    {
      "cell_type": "markdown",
      "metadata": {
        "id": "meApOZp8IHaY"
      },
      "source": [
        "## Build Model"
      ]
    },
    {
      "cell_type": "code",
      "execution_count": null,
      "metadata": {
        "id": "-nzsXg0_IHaY"
      },
      "outputs": [],
      "source": [
        "inputs = tf.keras.Input(shape=(160, 160, 3))\n",
        "\n",
        "x = data_augmentation(inputs)\n",
        "x = preprocess_input(x)\n",
        "x = base_model(x, training=True)\n",
        "x = global_average_layer(x)\n",
        "x = tf.keras.layers.Dropout(0.2)(x)\n",
        "\n",
        "outputs = prediction_layer(x)\n",
        "model = tf.keras.Model(inputs, outputs)"
      ]
    },
    {
      "cell_type": "code",
      "execution_count": null,
      "metadata": {
        "id": "WZyjbebQIHaZ"
      },
      "outputs": [],
      "source": [
        "base_learning_rate = 0.0001\n",
        "model.compile(optimizer=tf.keras.optimizers.Adam(learning_rate=base_learning_rate),\n",
        "              loss=tf.keras.losses.SparseCategoricalCrossentropy(from_logits=True),\n",
        "              metrics=['accuracy'])"
      ]
    },
    {
      "cell_type": "code",
      "execution_count": null,
      "metadata": {
        "id": "_dKrXzjfIHaa"
      },
      "outputs": [],
      "source": [
        "model.summary()"
      ]
    },
    {
      "cell_type": "markdown",
      "metadata": {
        "id": "ozCA9mOdIHab"
      },
      "source": [
        "## Train the model"
      ]
    },
    {
      "cell_type": "code",
      "execution_count": null,
      "metadata": {
        "id": "ccU3KzkqIHab"
      },
      "outputs": [],
      "source": [
        "initial_epochs = 10\n",
        "\n",
        "loss0, accuracy0 = model.evaluate(validation_dataset)"
      ]
    },
    {
      "cell_type": "code",
      "execution_count": null,
      "metadata": {
        "id": "YpyNa_AlIHac"
      },
      "outputs": [],
      "source": [
        "print(\"initial loss: {:.2f}\".format(loss0))\n",
        "print(\"initial accuracy: {:.2f}\".format(accuracy0))"
      ]
    },
    {
      "cell_type": "code",
      "execution_count": null,
      "metadata": {
        "id": "94K0YUdyIHac"
      },
      "outputs": [],
      "source": [
        "history = model.fit(train_dataset,\n",
        "                    epochs=initial_epochs,\n",
        "                    validation_data=validation_dataset)"
      ]
    },
    {
      "cell_type": "markdown",
      "metadata": {
        "id": "ICYEyachIHad"
      },
      "source": [
        "## Learning Curves"
      ]
    },
    {
      "cell_type": "code",
      "execution_count": null,
      "metadata": {
        "id": "DCXDdLrsIHad"
      },
      "outputs": [],
      "source": [
        "import matplotlib.pyplot as plt\n",
        "\n",
        "acc = history.history['accuracy']\n",
        "val_acc = history.history['val_accuracy']\n",
        "\n",
        "loss = history.history['loss']\n",
        "val_loss = history.history['val_loss']\n",
        "\n",
        "plt.figure(figsize=(8, 8))\n",
        "plt.subplot(2, 1, 1)\n",
        "plt.plot(acc, label='Training Accuracy')\n",
        "plt.plot(val_acc, label='Validation Accuracy')\n",
        "plt.legend(loc='lower right')\n",
        "plt.ylabel('Accuracy')\n",
        "plt.ylim([min(plt.ylim()),1])\n",
        "plt.title('Training and Validation Accuracy')\n",
        "\n",
        "plt.subplot(2, 1, 2)\n",
        "plt.plot(loss, label='Training Loss')\n",
        "plt.plot(val_loss, label='Validation Loss')\n",
        "plt.legend(loc='upper right')\n",
        "plt.ylabel('Cross Entropy')\n",
        "plt.ylim([0,2.0])\n",
        "plt.title('Training and Validation Loss')\n",
        "plt.xlabel('epoch')\n",
        "plt.show()"
      ]
    },
    {
      "cell_type": "markdown",
      "metadata": {
        "id": "MTkEm8ZO8oj8"
      },
      "source": [
        "\n",
        "<img src=\"https://media.tenor.com/qkRQPFXAb5IAAAAd/the-office.gif\" width=48%>\n"
      ]
    },
    {
      "cell_type": "markdown",
      "metadata": {
        "id": "dDRx0LqrHB-q"
      },
      "source": [
        "# Transfer Learning\n",
        "\n",
        "<img src=\"https://media.tenor.com/sOb--NKJ64gAAAAC/challenge-accepted-himym.gif\" width=50%>\n"
      ]
    },
    {
      "cell_type": "markdown",
      "metadata": {
        "id": "TaNP1r-NI76j"
      },
      "source": [
        "# Create the base model from the pre-trained convnets"
      ]
    },
    {
      "cell_type": "markdown",
      "metadata": {
        "id": "HGKuV3mdJXD7"
      },
      "source": [
        "First, instantiate a MobileNet V2 model pre-loaded with weights trained on ImageNet. By specifying the include_top=False argument, you load a network that doesn't include the classification layers at the top, which is ideal for feature extraction."
      ]
    },
    {
      "cell_type": "code",
      "execution_count": null,
      "metadata": {
        "id": "6WqfkvmEI_FO"
      },
      "outputs": [],
      "source": [
        "# Create the base model from the pre-trained model MobileNet V2\n",
        "IMG_SHAPE = IMG_SIZE + (3,)\n",
        "base_model = tf.keras.applications.MobileNetV2(input_shape=IMG_SHAPE,\n",
        "                                               include_top=False,\n",
        "                                               weights='imagenet')"
      ]
    },
    {
      "cell_type": "markdown",
      "metadata": {
        "id": "c2SsKMjCJ4hU"
      },
      "source": [
        "## Freeze the convolutional base"
      ]
    },
    {
      "cell_type": "code",
      "execution_count": null,
      "metadata": {
        "id": "QBk2qqdhJ1K1"
      },
      "outputs": [],
      "source": [
        "base_model.trainable = False"
      ]
    },
    {
      "cell_type": "code",
      "execution_count": null,
      "metadata": {
        "id": "D0NsyrbkJ7nk"
      },
      "outputs": [],
      "source": [
        "# Let's take a look at the base model architecture\n",
        "base_model.summary()"
      ]
    },
    {
      "cell_type": "markdown",
      "metadata": {
        "id": "bMZ5Xgw-K7cj"
      },
      "source": [
        "## Add a classification head\n",
        "\n",
        "<img src=\"https://scontent.famd7-1.fna.fbcdn.net/v/t39.30808-6/265533741_2951920375137880_3990234937858485615_n.jpg?_nc_cat=106&ccb=1-7&_nc_sid=825194&_nc_ohc=sz4gSEZZCY4AX9EmT5c&_nc_ht=scontent.famd7-1.fna&oh=00_AfCGEDtzN2FKGVcRoEjK8ch6BK3InqQ5eXikXJcLkMNI3Q&oe=63FB6628\" width=60%>"
      ]
    },
    {
      "cell_type": "markdown",
      "metadata": {
        "id": "tKdc2isaK7ck"
      },
      "source": [
        "To generate predictions from the block of features, average over the spatial 5x5 spatial locations, using a tf.keras.layers.GlobalAveragePooling2D layer to convert the features to a single 1280-element vector per image."
      ]
    },
    {
      "cell_type": "code",
      "execution_count": null,
      "metadata": {
        "id": "SDg0YdyeK7ck"
      },
      "outputs": [],
      "source": [
        "global_average_layer = tf.keras.layers.GlobalAveragePooling2D()\n",
        "feature_batch_average = global_average_layer(feature_batch)\n",
        "print(feature_batch_average.shape)"
      ]
    },
    {
      "cell_type": "markdown",
      "metadata": {
        "id": "firbO6uSK7cl"
      },
      "source": [
        "Apply a tf.keras.layers.Dense layer to convert these features into a probability vector.\n"
      ]
    },
    {
      "cell_type": "code",
      "execution_count": null,
      "metadata": {
        "id": "bXFQTuPDK7cm"
      },
      "outputs": [],
      "source": [
        "prediction_layer = tf.keras.layers.Dense(3)\n",
        "prediction_batch = prediction_layer(feature_batch_average)\n",
        "print(prediction_batch.shape)"
      ]
    },
    {
      "cell_type": "markdown",
      "metadata": {
        "id": "hdyqizTrKpIp"
      },
      "source": [
        "## Build Model"
      ]
    },
    {
      "cell_type": "code",
      "execution_count": null,
      "metadata": {
        "id": "Q0Yl1w3DKjKX"
      },
      "outputs": [],
      "source": [
        "inputs = tf.keras.Input(shape=(160, 160, 3))\n",
        "\n",
        "x = data_augmentation(inputs)\n",
        "x = preprocess_input(x)\n",
        "x = base_model(x, training=False)\n",
        "x = global_average_layer(x)\n",
        "x = tf.keras.layers.Dropout(0.2)(x)\n",
        "\n",
        "outputs = prediction_layer(x)\n",
        "model = tf.keras.Model(inputs, outputs)"
      ]
    },
    {
      "cell_type": "code",
      "execution_count": null,
      "metadata": {
        "id": "VZKI7_JrKvLG"
      },
      "outputs": [],
      "source": [
        "base_learning_rate = 0.0001\n",
        "model.compile(optimizer=tf.keras.optimizers.Adam(learning_rate=base_learning_rate),\n",
        "              loss=tf.keras.losses.SparseCategoricalCrossentropy(from_logits=True),\n",
        "              metrics=['accuracy'])"
      ]
    },
    {
      "cell_type": "code",
      "execution_count": null,
      "metadata": {
        "id": "ViMfIUzWLBhu"
      },
      "outputs": [],
      "source": [
        "model.summary()"
      ]
    },
    {
      "cell_type": "markdown",
      "metadata": {
        "id": "KyKvRbYhLWxX"
      },
      "source": [
        "## Why Trainable params = 3,843 ?\n",
        "\n",
        "<img src=\"https://media.tenor.com/BMQTJ4nWvCIAAAAd/thinking-think.gif\"  width=\"40%\">"
      ]
    },
    {
      "cell_type": "markdown",
      "metadata": {
        "id": "y8Lw4ghNLr-9"
      },
      "source": [
        "## Train the model"
      ]
    },
    {
      "cell_type": "code",
      "execution_count": null,
      "metadata": {
        "id": "FHxTubvyLZem"
      },
      "outputs": [],
      "source": [
        "initial_epochs = 10\n",
        "\n",
        "loss0, accuracy0 = model.evaluate(validation_dataset)"
      ]
    },
    {
      "cell_type": "code",
      "execution_count": null,
      "metadata": {
        "id": "4duiy0RyL1q4"
      },
      "outputs": [],
      "source": [
        "print(\"initial loss: {:.2f}\".format(loss0))\n",
        "print(\"initial accuracy: {:.2f}\".format(accuracy0))"
      ]
    },
    {
      "cell_type": "code",
      "execution_count": null,
      "metadata": {
        "id": "TqXg0KGrMpy1"
      },
      "outputs": [],
      "source": [
        "history = model.fit(train_dataset,\n",
        "                    epochs=initial_epochs,\n",
        "                    validation_data=validation_dataset)"
      ]
    },
    {
      "cell_type": "markdown",
      "metadata": {
        "id": "xqYuZJyVM7Nb"
      },
      "source": [
        "## Learning Curves"
      ]
    },
    {
      "cell_type": "code",
      "execution_count": null,
      "metadata": {
        "id": "tk8n3seMMwB2"
      },
      "outputs": [],
      "source": [
        "import matplotlib.pyplot as plt\n",
        "\n",
        "acc = history.history['accuracy']\n",
        "val_acc = history.history['val_accuracy']\n",
        "\n",
        "loss = history.history['loss']\n",
        "val_loss = history.history['val_loss']\n",
        "\n",
        "plt.figure(figsize=(8, 8))\n",
        "plt.subplot(2, 1, 1)\n",
        "plt.plot(acc, label='Training Accuracy')\n",
        "plt.plot(val_acc, label='Validation Accuracy')\n",
        "plt.legend(loc='lower right')\n",
        "plt.ylabel('Accuracy')\n",
        "plt.ylim([min(plt.ylim()),1])\n",
        "plt.title('Training and Validation Accuracy')\n",
        "\n",
        "plt.subplot(2, 1, 2)\n",
        "plt.plot(loss, label='Training Loss')\n",
        "plt.plot(val_loss, label='Validation Loss')\n",
        "plt.legend(loc='upper right')\n",
        "plt.ylabel('Cross Entropy')\n",
        "plt.ylim([0,1.0])\n",
        "plt.title('Training and Validation Loss')\n",
        "plt.xlabel('epoch')\n",
        "plt.show()"
      ]
    },
    {
      "cell_type": "markdown",
      "metadata": {
        "id": "bdzrnimiAZei"
      },
      "source": [
        "<img src=\"https://media.tenor.com/t2-Zy0F7UYIAAAAC/akshay-kumar-gif.gif\" />"
      ]
    },
    {
      "cell_type": "markdown",
      "metadata": {
        "id": "vNXM_nypN6Gb"
      },
      "source": [
        "# Fine tuning\n",
        "\n",
        "<img src=\"https://media.tenor.com/bWkE0Y8JaBgAAAAC/dragon-ball-super-saiyan.gif\">"
      ]
    },
    {
      "cell_type": "markdown",
      "metadata": {
        "id": "E6ZMTbyDOBV2"
      },
      "source": [
        "One way to increase performance even further is to train (or \"fine-tune\") the weights of the top layers of the pre-trained model alongside the training of the classifier you added. The training process will force the weights to be tuned from generic feature maps to features associated specifically with the dataset.\n",
        "\n",
        "* Also, you should try to fine-tune a small number of top layers rather than the whole MobileNet model. In most convolutional networks, the higher up a layer is, the more specialized it is.\n",
        "\n",
        "* The first few layers learn very simple and generic features that generalize to almost all types of images. \n",
        "\n",
        "* As you go higher up, the features are increasingly more specific to the dataset on which the model was trained. \n",
        "\n",
        "* The goal of fine-tuning is to adapt these specialized features to work with the new dataset, rather than overwrite the generic learning."
      ]
    },
    {
      "cell_type": "markdown",
      "metadata": {
        "id": "meXezGCiOdbt"
      },
      "source": [
        "## Un-freeze the top layers of the model"
      ]
    },
    {
      "cell_type": "code",
      "execution_count": null,
      "metadata": {
        "id": "wEaaXdaqM9FT"
      },
      "outputs": [],
      "source": [
        "base_model.trainable = True"
      ]
    },
    {
      "cell_type": "code",
      "execution_count": null,
      "metadata": {
        "id": "14y83KMBOi5F"
      },
      "outputs": [],
      "source": [
        "# Let's take a look to see how many layers are in the base model\n",
        "print(\"Number of layers in the base model: \", len(base_model.layers))\n",
        "\n",
        "# Fine-tune from this layer onwards\n",
        "fine_tune_at = 100\n",
        "\n",
        "# Freeze all the layers before the `fine_tune_at` layer\n",
        "for layer in base_model.layers[:fine_tune_at]:\n",
        "  layer.trainable = False"
      ]
    },
    {
      "cell_type": "markdown",
      "metadata": {
        "id": "2dlBadrKOm_v"
      },
      "source": [
        "## Compile the model"
      ]
    },
    {
      "cell_type": "code",
      "execution_count": null,
      "metadata": {
        "id": "QxYGYu_7OkEZ"
      },
      "outputs": [],
      "source": [
        "model.compile(loss=tf.keras.losses.SparseCategoricalCrossentropy(from_logits=True),\n",
        "              optimizer = tf.keras.optimizers.RMSprop(learning_rate=base_learning_rate/10),\n",
        "              metrics=['accuracy'])"
      ]
    },
    {
      "cell_type": "code",
      "execution_count": null,
      "metadata": {
        "id": "fGoYCH4_Or92"
      },
      "outputs": [],
      "source": [
        "model.summary()\n"
      ]
    },
    {
      "cell_type": "markdown",
      "metadata": {
        "id": "pve6kT-gOyLY"
      },
      "source": [
        "## Continue training the model\n",
        "\n",
        "If you trained to convergence earlier, this step will improve your accuracy by a few percentage points.\n",
        "\n"
      ]
    },
    {
      "cell_type": "code",
      "execution_count": null,
      "metadata": {
        "id": "gprY36Q8Otra"
      },
      "outputs": [],
      "source": [
        "fine_tune_epochs = 10\n",
        "total_epochs =  initial_epochs + fine_tune_epochs\n",
        "\n",
        "history_fine = model.fit(train_dataset,\n",
        "                         epochs=total_epochs,\n",
        "                         initial_epoch=history.epoch[-1],\n",
        "                         validation_data=validation_dataset)"
      ]
    },
    {
      "cell_type": "code",
      "execution_count": null,
      "metadata": {
        "id": "RqM4sy4pO6Re"
      },
      "outputs": [],
      "source": [
        "acc += history_fine.history['accuracy']\n",
        "val_acc += history_fine.history['val_accuracy']\n",
        "\n",
        "loss += history_fine.history['loss']\n",
        "val_loss += history_fine.history['val_loss']"
      ]
    },
    {
      "cell_type": "code",
      "execution_count": null,
      "metadata": {
        "id": "2eKVa1VVPGwi"
      },
      "outputs": [],
      "source": [
        "plt.figure(figsize=(8, 8))\n",
        "plt.subplot(2, 1, 1)\n",
        "plt.plot(acc, label='Training Accuracy')\n",
        "plt.plot(val_acc, label='Validation Accuracy')\n",
        "plt.ylim([0, 1.2])\n",
        "plt.plot([initial_epochs-1,initial_epochs-1],\n",
        "          plt.ylim(), label='Start Fine Tuning')\n",
        "plt.legend(loc='lower right')\n",
        "plt.title('Training and Validation Accuracy')\n",
        "\n",
        "plt.subplot(2, 1, 2)\n",
        "plt.plot(loss, label='Training Loss')\n",
        "plt.plot(val_loss, label='Validation Loss')\n",
        "plt.ylim([0, 1.0])\n",
        "plt.plot([initial_epochs-1,initial_epochs-1],\n",
        "         plt.ylim(), label='Start Fine Tuning')\n",
        "plt.legend(loc='upper right')\n",
        "plt.title('Training and Validation Loss')\n",
        "plt.xlabel('epoch')\n",
        "plt.show()"
      ]
    },
    {
      "cell_type": "markdown",
      "metadata": {
        "id": "NKo9UXuzAw1P"
      },
      "source": [
        "<img src=\"https://media.tenor.com/xROfsR0oiNoAAAAC/shocked-joey.gif\">"
      ]
    },
    {
      "cell_type": "markdown",
      "metadata": {
        "id": "2KHZwt4JPXpy"
      },
      "source": [
        "## Evaluation"
      ]
    },
    {
      "cell_type": "code",
      "execution_count": null,
      "metadata": {
        "id": "CclYamjzPW_a"
      },
      "outputs": [],
      "source": [
        "loss, accuracy = model.evaluate(test_dataset)\n",
        "print('Test accuracy :', accuracy)"
      ]
    },
    {
      "cell_type": "markdown",
      "metadata": {
        "id": "Ucqh5-8bPh0k"
      },
      "source": [
        "# Prediction"
      ]
    },
    {
      "cell_type": "code",
      "execution_count": null,
      "metadata": {
        "id": "kokdPSUKRycm"
      },
      "outputs": [],
      "source": [
        "class_name_map = {\n",
        "    0: class_1_name,\n",
        "    1: class_2_name,\n",
        "    2: class_3_name\n",
        "}\n",
        "\n",
        "def predict_image():\n",
        "\n",
        "  # take photo\n",
        "  image = take_photo()\n",
        "  image_resized = tf.expand_dims(tf.image.resize(image, IMG_SIZE), axis=0)\n",
        "  \n",
        "  # predict class\n",
        "  predictions = model.predict(image_resized).flatten()\n",
        "  predictions = tf.nn.softmax(predictions)\n",
        "  class_id = tf.argmax(predictions).numpy()\n",
        "  class_score = predictions[class_id].numpy() * 100\n",
        "\n",
        "  # show result\n",
        "  resize_and_show(image, desired_width=640)\n",
        "  print(f\"\\n\\n{class_name_map[class_id]} (conf = {int(class_score)}%)\")"
      ]
    },
    {
      "cell_type": "code",
      "execution_count": null,
      "metadata": {
        "id": "cGzBt2raQpCH"
      },
      "outputs": [],
      "source": [
        "predict_image()"
      ]
    },
    {
      "cell_type": "markdown",
      "metadata": {
        "id": "N34k-TDAQoxb"
      },
      "source": [
        "# Some Real World Projects Levaraging Transfer Learning.\n",
        "\n",
        "\n",
        "1. Few Shot Learning\n",
        "  * [On Device Detection](https://hetul-patel.github.io/projects/on_device_classification/)\n",
        "\n",
        "2. Contrastive Learning\n",
        "  * [Deep Face Recognition](https://hetul-patel.github.io/projects/deep_face_recognition/)\n",
        "\n",
        "3. Self Supervised Learning\n",
        "  * [Clothes Retrieval](https://hetul-patel.github.io/projects/clothes_retrieval/)\n",
        "\n",
        "4. Curriculum Learning\n",
        "  * [License Plate Recognition](https://hetul-patel.github.io/projects/alpr/)\n",
        "\n",
        "5. Multitask Learning\n",
        "  * [Face Detection and Face Landmark estimation](https://github.com/deepinsight/insightface/tree/master/detection/retinaface)\n",
        "\n",
        "6. Unsupervised Domain Adaptation\n",
        "  * [Digit Classification](https://medium.com/@2017csm1006/unsupervised-domain-adaptation-by-backpropagation-da730a190fd2)\n",
        "\n",
        "7. Transfer Learning For NLP known as Pre Training\n",
        "BERT\n",
        "  * [Downstream text related tasks.](https://jalammar.github.io/illustrated-bert/)\n"
      ]
    }
  ],
  "metadata": {
    "colab": {
      "provenance": [],
      "toc_visible": true,
      "include_colab_link": true
    },
    "gpuClass": "standard",
    "kernelspec": {
      "display_name": "Python 3",
      "name": "python3"
    }
  },
  "nbformat": 4,
  "nbformat_minor": 0
}